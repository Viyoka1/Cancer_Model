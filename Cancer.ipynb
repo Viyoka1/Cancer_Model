{
 "cells": [
  {
   "cell_type": "code",
   "execution_count": null,
   "id": "f71314b0-f6db-4f11-8bb7-ca990db1f842",
   "metadata": {},
   "outputs": [],
   "source": [
    "# Homework 1\n",
    "# Cancer Diagnosis Using Machine Learning \n",
    "# Due Date: February 19th, 2025"
   ]
  },
  {
   "cell_type": "code",
   "execution_count": null,
   "id": "dee8f3fa-ef75-46bd-af18-d7daab6ed763",
   "metadata": {},
   "outputs": [],
   "source": [
    "import pandas as pd\n",
    "\n",
    "# Load the dataset\n",
    "df = pd.read_csv(\"https://github.com/mpourhoma/CS4662/raw/master/Cancer.csv\")\n",
    "\n",
    "# Display columns in dataset\n",
    "print(df.columns)"
   ]
  },
  {
   "cell_type": "code",
   "execution_count": 15,
   "id": "5538d232-d216-4d6c-bfa1-ca8aa1d30a93",
   "metadata": {},
   "outputs": [
    {
     "data": {
      "text/plain": [
       "((105, 9), (45, 9), (105,), (45,))"
      ]
     },
     "execution_count": 15,
     "metadata": {},
     "output_type": "execute_result"
    }
   ],
   "source": [
    "# Use sklearn functions to split the dataset into testing and training sets with the following parameters:\n",
    "# test_size=0.3, random_state=2\n",
    "\n",
    "from sklearn.model_selection import train_test_split\n",
    "\n",
    "# Define features X and labels y\n",
    "X = df.drop(columns=['Malignant_Cancer'])  # Drop the target column\n",
    "y = df['Malignant_Cancer']  # Select the target column\n",
    "\n",
    "# Split the dataset\n",
    "X_train, X_test, y_train, y_test = train_test_split(X, y, test_size=0.3, random_state=2)\n",
    "\n",
    "# Check the shape of the resulting sets\n",
    "X_train.shape, X_test.shape, y_train.shape, y_test.shape\n"
   ]
  },
  {
   "cell_type": "code",
   "execution_count": 23,
   "id": "efdfd2eb-9377-404a-b213-e5924092f138",
   "metadata": {},
   "outputs": [
    {
     "name": "stdout",
     "output_type": "stream",
     "text": [
      "Accuracy: 0.8666666666666667\n",
      "AUC: 0.8697478991596639\n"
     ]
    }
   ],
   "source": [
    "# Use \"Decision Tree Classifier\" to predict cancer based on the training/testing dataset. \n",
    "# Calculate and report accuracy and AUC of your classifier. \n",
    "# Plot the ROC curve. \n",
    "\n",
    "from sklearn.metrics import accuracy_score, roc_auc_score\n",
    "from sklearn.tree import DecisionTreeClassifier\n",
    "\n",
    "# Instantiate and train the decision tree\n",
    "my_decisiontree = DecisionTreeClassifier(random_state=2)\n",
    "my_decisiontree.fit(X_train, y_train)\n",
    "\n",
    "# Make predictions\n",
    "y_predict = my_decisiontree.predict(X_test)\n",
    "\n",
    "# Compute accuracy\n",
    "accuracy = accuracy_score(y_test, y_predict) \n",
    "\n",
    "# Compute AUC \n",
    "y_prob_dt = my_decisiontree.predict_proba(X_test)[:, 1]  \n",
    "auc = roc_auc_score(y_test, y_prob_dt)\n",
    "\n",
    "# Print results\n",
    "print(\"Accuracy:\", accuracy)\n",
    "print(\"AUC:\", auc)\n"
   ]
  },
  {
   "cell_type": "code",
   "execution_count": null,
   "id": "c8f6113d-1022-4fcb-92ac-0e2130c50ab3",
   "metadata": {},
   "outputs": [],
   "source": []
  },
  {
   "cell_type": "code",
   "execution_count": 17,
   "id": "e01ad2aa-0146-41e9-af0d-f17bd34ad9c5",
   "metadata": {},
   "outputs": [
    {
     "name": "stdout",
     "output_type": "stream",
     "text": [
      "   Clump_Thickness  Uniformity_of_Cell_Size  Uniformity_of_Cell_Shape  \\\n",
      "0                5                        1                         1   \n",
      "1                5                        4                         4   \n",
      "2                3                        1                         1   \n",
      "3                6                        8                         8   \n",
      "4                4                        1                         1   \n",
      "\n",
      "   Marginal_Adhesion  Single_Epithelial_Cell_Size  Bare_Nuclei  \\\n",
      "0                  1                            2            1   \n",
      "1                  5                            7           10   \n",
      "2                  1                            2            2   \n",
      "3                  1                            3            4   \n",
      "4                  3                            2            1   \n",
      "\n",
      "   Bland_Chromatin  Normal_Nucleoli  Mitoses  Malignant_Cancer  \n",
      "0                3                1        1                 0  \n",
      "1                3                2        1                 0  \n",
      "2                3                1        1                 0  \n",
      "3                3                7        1                 0  \n",
      "4                3                1        1                 0  \n",
      "Bagging Accuracy: 0.9111111111111111\n",
      "Bagging AUC: 0.9380252100840336\n"
     ]
    }
   ],
   "source": [
    "# Bagging Implementation with 29 Decision Trees\n",
    "# \n",
    "# This code implements Bagging (Bootstrap Aggregating) without using scikit-learn's built-in BaggingClassifier. \n",
    "# We train 29 individual Decision Tree classifiers on different bootstrapped subsets of the training data \n",
    "# and combine their predictions using majority voting.\n",
    "# \n",
    "# Steps:\n",
    "# 1. Generate 29 bootstrapped training datasets (each containing 80% of X_train).\n",
    "# 2. Train a new Decision Tree classifier on each bootstrapped dataset.\n",
    "# 3. Predict on the original test set (X_test) and store the predictions.\n",
    "# 4. Perform majority voting across all classifiers to determine the final prediction.\n",
    "# 5. Compute the mean probability for AUC calculation.\n",
    "# 6. Report the final accuracy and AUC of the Bagging ensemble.\n",
    "# \n",
    "# The final predictions are based on the majority vote across all classifiers, \n",
    "# and the probability for the AUC calculation is obtained by averaging the predicted probabilities.\n",
    "\n",
    "from sklearn.tree import DecisionTreeClassifier\n",
    "from sklearn.metrics import accuracy_score, roc_auc_score\n",
    "from sklearn.utils import resample\n",
    "from sklearn.model_selection import train_test_split\n",
    "import numpy as np\n",
    "import pandas as pd\n",
    "\n",
    "# Load dataset again\n",
    "df = pd.read_csv(\"https://github.com/mpourhoma/CS4662/raw/master/Cancer.csv\")\n",
    "\n",
    "# Verify the first few rows\n",
    "print(df.head())\n",
    "\n",
    "# Define features and labels\n",
    "X = df.drop(columns=['Malignant_Cancer'])  # Adjust target column name\n",
    "y = df['Malignant_Cancer']\n",
    "\n",
    "# Split dataset\n",
    "X_train, X_test, y_train, y_test = train_test_split(X, y, test_size=0.3, random_state=2)\n",
    "\n",
    "# Parameters\n",
    "num_classifiers = 29\n",
    "bootstrap_size = int(0.8 * len(X_train))\n",
    "\n",
    "# Store predictions\n",
    "predictions_list = []\n",
    "probabilities_list = []\n",
    "\n",
    "# Bagging process\n",
    "for i in range(num_classifiers):\n",
    "    # Bootstrap sample\n",
    "    X_resampled, y_resampled = resample(X_train, y_train, n_samples=bootstrap_size, random_state=i, replace=True)\n",
    "\n",
    "    # Train Decision Tree\n",
    "    Base_DecisionTree = DecisionTreeClassifier(random_state=2)\n",
    "    Base_DecisionTree.fit(X_resampled, y_resampled)\n",
    "\n",
    "    # Predict on X_test\n",
    "    y_pred = Base_DecisionTree.predict(X_test)\n",
    "    y_prob_dt = Base_DecisionTree.predict_proba(X_test)[:, 1]\n",
    "\n",
    "    # Store predictions\n",
    "    predictions_list.append(y_pred)\n",
    "    probabilities_list.append(y_prob)\n",
    "\n",
    "# Convert lists to arrays\n",
    "predictions = np.array(predictions_list)\n",
    "probabilities = np.array(probabilities_list)\n",
    "\n",
    "# Majority voting (final prediction)\n",
    "final_predictions = np.round(np.mean(predictions, axis=0))\n",
    "\n",
    "# Mean probability for AUC\n",
    "final_probabilities = np.mean(probabilities, axis=0)\n",
    "\n",
    "# Compute Accuracy and AUC\n",
    "accuracy = accuracy_score(y_test, final_predictions)\n",
    "auc = roc_auc_score(y_test, final_probabilities)\n",
    "\n",
    "print(\"Bagging Accuracy:\", accuracy)\n",
    "print(\"Bagging AUC:\", auc)\n"
   ]
  },
  {
   "cell_type": "code",
   "execution_count": 25,
   "id": "3977ac78-3d14-44b3-8a69-8a241461a2cc",
   "metadata": {},
   "outputs": [
    {
     "name": "stdout",
     "output_type": "stream",
     "text": [
      "   Clump_Thickness  Uniformity_of_Cell_Size  Uniformity_of_Cell_Shape  \\\n",
      "0                5                        1                         1   \n",
      "1                5                        4                         4   \n",
      "2                3                        1                         1   \n",
      "3                6                        8                         8   \n",
      "4                4                        1                         1   \n",
      "\n",
      "   Marginal_Adhesion  Single_Epithelial_Cell_Size  Bare_Nuclei  \\\n",
      "0                  1                            2            1   \n",
      "1                  5                            7           10   \n",
      "2                  1                            2            2   \n",
      "3                  1                            3            4   \n",
      "4                  3                            2            1   \n",
      "\n",
      "   Bland_Chromatin  Normal_Nucleoli  Mitoses  Malignant_Cancer  \n",
      "0                3                1        1                 0  \n",
      "1                3                2        1                 0  \n",
      "2                3                1        1                 0  \n",
      "3                3                7        1                 0  \n",
      "4                3                1        1                 0  \n"
     ]
    }
   ],
   "source": [
    "# Use scikit-learn \"Adaboost\" classifier to predict cancer \n",
    "# based on the training/testing datasets that you built in ptB\n",
    "# Then, calculate and report the accuracy and AUC of your classifier.\n",
    "\n",
    "from sklearn.ensemble import AdaBoostClassifier  \n",
    "import numpy as np\n",
    "import pandas as pd\n",
    "\n",
    "# Load dataset again\n",
    "df = pd.read_csv(\"https://github.com/mpourhoma/CS4662/raw/master/Cancer.csv\")\n",
    "\n",
    "# Verify the first few rows\n",
    "print(df.head())\n",
    "\n",
    "# Define features and labels\n",
    "X = df.drop(columns=['Malignant_Cancer'])  \n",
    "y = df['Malignant_Cancer']\n",
    "\n",
    "# Initialize AdaBoost classifier\n",
    "my_AdaBoost = AdaBoostClassifier(n_estimators=29, random_state=2)\n",
    "\n",
    "# Train AdaBoost\n",
    "my_AdaBoost.fit(X_train, y_train)"
   ]
  },
  {
   "cell_type": "code",
   "execution_count": 7,
   "id": "21cb83db-a27c-4f3e-bcdf-eea1a8b858d0",
   "metadata": {},
   "outputs": [
    {
     "name": "stdout",
     "output_type": "stream",
     "text": [
      "   Clump_Thickness  Uniformity_of_Cell_Size  Uniformity_of_Cell_Shape  \\\n",
      "0                5                        1                         1   \n",
      "1                5                        4                         4   \n",
      "2                3                        1                         1   \n",
      "3                6                        8                         8   \n",
      "4                4                        1                         1   \n",
      "\n",
      "   Marginal_Adhesion  Single_Epithelial_Cell_Size  Bare_Nuclei  \\\n",
      "0                  1                            2            1   \n",
      "1                  5                            7           10   \n",
      "2                  1                            2            2   \n",
      "3                  1                            3            4   \n",
      "4                  3                            2            1   \n",
      "\n",
      "   Bland_Chromatin  Normal_Nucleoli  Mitoses  Malignant_Cancer  \n",
      "0                3                1        1                 0  \n",
      "1                3                2        1                 0  \n",
      "2                3                1        1                 0  \n",
      "3                3                7        1                 0  \n",
      "4                3                1        1                 0  \n",
      "XGBoost: 0.9555555555555556\n",
      "AUC: 0.963235294117647\n"
     ]
    }
   ],
   "source": [
    "# Gradient Boosting with its popular and super efficient implementation \"XGBoost\" that stands for \"Extreme Gradient Boosting\"\n",
    "from xgboost import XGBClassifier  \n",
    "from sklearn.model_selection import train_test_split\n",
    "from sklearn.metrics import accuracy_score, roc_auc_score\n",
    "import numpy as np\n",
    "import pandas as pd\n",
    "\n",
    "# Load dataset again\n",
    "df = pd.read_csv(\"https://github.com/mpourhoma/CS4662/raw/master/Cancer.csv\")\n",
    "\n",
    "print(df.head())\n",
    "\n",
    "# Define features and labels\n",
    "X = df.drop(columns=['Malignant_Cancer'])  \n",
    "y = df['Malignant_Cancer']\n",
    "\n",
    "my_XGBoost = XGBClassifier(n_estimators = 29,random_state=2)\n",
    "\n",
    "# Split the dataset \n",
    "X_train, X_test, y_train, y_test = train_test_split(X, y, test_size=0.3, random_state=2)\n",
    "\n",
    "# Train Adaboost\n",
    "my_XGBoost.fit(X_train, y_train)\n",
    "\n",
    "# Preidct on test set\n",
    "y_pred = my_XGBoost.predict(X_test)\n",
    "\n",
    "# Compute accuracy and AUC\n",
    "accuracy = accuracy_score(y_test, y_pred)\n",
    "y_prob_xgb = my_XGBoost.predict_proba(X_test)[:, 1]\n",
    "auc = roc_auc_score(y_test, y_prob_xgb)\n",
    "\n",
    "print(\"XGBoost:\", accuracy)\n",
    "print(\"AUC:\", auc)\n"
   ]
  },
  {
   "cell_type": "code",
   "execution_count": 5,
   "id": "4a7ff376-fd22-4dad-ab87-5eb43c4d2862",
   "metadata": {},
   "outputs": [
    {
     "name": "stdout",
     "output_type": "stream",
     "text": [
      "XGBoost is installed successfully!\n"
     ]
    }
   ],
   "source": [
    "import xgboost as xgb\n",
    "print(\"XGBoost is installed successfully!\")\n"
   ]
  },
  {
   "cell_type": "code",
   "execution_count": 11,
   "id": "f58aaae8-1c40-4414-be18-b189526007ba",
   "metadata": {},
   "outputs": [
    {
     "name": "stdout",
     "output_type": "stream",
     "text": [
      "   Clump_Thickness  Uniformity_of_Cell_Size  Uniformity_of_Cell_Shape  \\\n",
      "0                5                        1                         1   \n",
      "1                5                        4                         4   \n",
      "2                3                        1                         1   \n",
      "3                6                        8                         8   \n",
      "4                4                        1                         1   \n",
      "\n",
      "   Marginal_Adhesion  Single_Epithelial_Cell_Size  Bare_Nuclei  \\\n",
      "0                  1                            2            1   \n",
      "1                  5                            7           10   \n",
      "2                  1                            2            2   \n",
      "3                  1                            3            4   \n",
      "4                  3                            2            1   \n",
      "\n",
      "   Bland_Chromatin  Normal_Nucleoli  Mitoses  Malignant_Cancer  \n",
      "0                3                1        1                 0  \n",
      "1                3                2        1                 0  \n",
      "2                3                1        1                 0  \n",
      "3                3                7        1                 0  \n",
      "4                3                1        1                 0  \n",
      "Accuracy 0.9555555555555556\n",
      "AUC 0.963235294117647\n"
     ]
    }
   ],
   "source": [
    "# Use Scikit-learn \"Random Forest\" classifier to predict cancer based on the training/test datsets \n",
    "# Calculate and report the accuracy AUC of your classifier.\n",
    "from sklearn.ensemble import RandomForestClassifier\n",
    "from sklearn.model_selection import train_test_split\n",
    "from sklearn.metrics import accuracy_score, roc_auc_score\n",
    "import numpy as np\n",
    "import pandas as pd\n",
    "\n",
    "# Load dataset again\n",
    "df = pd.read_csv(\"https://github.com/mpourhoma/CS4662/raw/master/Cancer.csv\")\n",
    "\n",
    "# Verify the first few rows\n",
    "print(df.head())\n",
    "\n",
    "# Define features and labels\n",
    "X = df.drop(columns=['Malignant_Cancer'])  # Adjust target column name\n",
    "y = df['Malignant_Cancer']\n",
    "\n",
    "# Split dataset into training and testing sets\n",
    "X_train, X_test, y_train, y_test = train_test_split(X, y, test_size=0.3, random_state=2)\n",
    "\n",
    "# Compute probability score \n",
    "y_prob_rf = my_RandomForest.predict_proba(X_test)[:, 1]\n",
    "\n",
    "# Initialize and train the Random Forest model\n",
    "my_RandomForest = RandomForestClassifier(n_estimators = 9, bootstrap = True, random_state = 2)\n",
    "my_RandomForest.fit(X_train, y_train)\n",
    "\n",
    "# Print results\n",
    "print(\"Accuracy\", accuracy)\n",
    "print(\"AUC\", auc)"
   ]
  },
  {
   "cell_type": "code",
   "execution_count": 41,
   "id": "22eb02aa-f28c-4a02-9a72-9fe213981d0d",
   "metadata": {},
   "outputs": [
    {
     "data": {
      "image/png": "[encoded data removed]",
      "text/plain": [
       "<Figure size 1000x700 with 1 Axes>"
      ]
     },
     "metadata": {},
     "output_type": "display_data"
    }
   ],
   "source": [
    "from sklearn.metrics import roc_curve, auc\n",
    "import matplotlib.pyplot as plt\n",
    "\n",
    "# Compute probability scores for AUC calculation\n",
    "y_prob_dt = my_decisiontree.predict_proba(X_test)[:, 1] \n",
    "y_prob_ada = my_AdaBoost.predict_proba(X_test)[:, 1]\n",
    "y_prob_xgb = my_XGBoost.predict_proba(X_test)[:, 1]  \n",
    "y_prob_rf = my_RandomForest.predict_proba(X_test)[:, 1]\n",
    "\n",
    "# Compute ROC curve and AUC for all models\n",
    "fpr_dt, tpr_dt, _ = roc_curve(y_test, y_prob_dt)\n",
    "auc_dt = auc(fpr_dt, tpr_dt)\n",
    "\n",
    "fpr_ada, tpr_ada, _ = roc_curve(y_test, y_prob_ada)\n",
    "auc_ada = auc(fpr_ada, tpr_ada)\n",
    "\n",
    "fpr_xgb, tpr_xgb, _ = roc_curve(y_test, y_prob_xgb) \n",
    "auc_xgb = auc(fpr_xgb, tpr_xgb)\n",
    "\n",
    "fpr_rf, tpr_rf, _ = roc_curve(y_test, y_prob_rf)\n",
    "auc_rf = auc(fpr_rf, tpr_rf)\n",
    "\n",
    "# Store FPR, TPR, and AUC values for plotting\n",
    "models = {\n",
    "    \"Decision Tree\": {\"fpr\": fpr_dt, \"tpr\": tpr_dt, \"auc\": auc_dt},\n",
    "    \"AdaBoost\": {\"fpr\": fpr_ada, \"tpr\": tpr_ada, \"auc\": auc_ada},\n",
    "    \"XGBoost\": {\"fpr\": fpr_xgb, \"tpr\": tpr_xgb, \"auc\": auc_xgb},\n",
    "    \"Random Forest\": {\"fpr\": fpr_rf, \"tpr\": tpr_rf, \"auc\": auc_rf},\n",
    "}\n",
    "\n",
    "# Plot all ROC curves\n",
    "plt.figure(figsize=(10, 7))\n",
    "for model_name, values in models.items():\n",
    "    plt.plot(values[\"fpr\"], values[\"tpr\"], lw=2, label=f\"{model_name} (AUC = {values['auc']:.2f})\")\n",
    "\n",
    "# Plot random classifier (baseline)\n",
    "plt.plot([0, 1], [0, 1], linestyle=\"--\", color=\"gray\", label=\"Random (AUC = 0.50)\")\n",
    "\n",
    "# Labels, Title, and Legend\n",
    "plt.xlabel(\"False Positive Rate\")\n",
    "plt.ylabel(\"True Positive Rate\")\n",
    "plt.title(\"ROC Curves for All Models\")\n",
    "plt.legend(loc=\"lower right\")\n",
    "\n",
    "# Show plot\n",
    "plt.show()\n"
   ]
  },
  {
   "cell_type": "code",
   "execution_count": null,
   "id": "43bd458f-f3ac-4922-83d5-14545d782a41",
   "metadata": {},
   "outputs": [],
   "source": []
  },
  {
   "cell_type": "code",
   "execution_count": null,
   "id": "cba968b0-0a6b-412a-9de4-91731f388e47",
   "metadata": {},
   "outputs": [],
   "source": []
  },
  {
   "cell_type": "code",
   "execution_count": null,
   "id": "91a55141-a83a-474d-90d7-14b51a186c54",
   "metadata": {},
   "outputs": [],
   "source": []
  },
  {
   "cell_type": "code",
   "execution_count": null,
   "id": "e3c4fc39-4748-4898-b094-c93a7c0fb021",
   "metadata": {},
   "outputs": [],
   "source": []
  },
  {
   "cell_type": "code",
   "execution_count": null,
   "id": "ac25ed85-42b5-4444-bad8-71ebe971fe0d",
   "metadata": {},
   "outputs": [],
   "source": []
  },
  {
   "cell_type": "code",
   "execution_count": null,
   "id": "6785f7af-4eca-4218-a4c6-ad88f046fcb0",
   "metadata": {},
   "outputs": [],
   "source": []
  },
  {
   "cell_type": "code",
   "execution_count": null,
   "id": "dcbbd59c-892c-4a97-985e-e223e011fb43",
   "metadata": {},
   "outputs": [],
   "source": []
  },
  {
   "cell_type": "code",
   "execution_count": null,
   "id": "0b96d327-fef9-4f76-a354-98062e7563ce",
   "metadata": {},
   "outputs": [],
   "source": []
  },
  {
   "cell_type": "code",
   "execution_count": null,
   "id": "d54db319-8e0d-49ee-b7d1-d671a3280840",
   "metadata": {},
   "outputs": [],
   "source": []
  },
  {
   "cell_type": "code",
   "execution_count": null,
   "id": "0b4f0e4d-63ed-4797-9aef-aedfd813a740",
   "metadata": {},
   "outputs": [],
   "source": []
  },
  {
   "cell_type": "code",
   "execution_count": null,
   "id": "70c959ad-54c7-4891-a689-2fef7570cdd9",
   "metadata": {},
   "outputs": [],
   "source": []
  },
  {
   "cell_type": "code",
   "execution_count": null,
   "id": "4fc8cf3f-bebb-44f8-bf83-aed6d4ee2f5f",
   "metadata": {},
   "outputs": [],
   "source": []
  },
  {
   "cell_type": "code",
   "execution_count": null,
   "id": "6d8587ce-eb0e-4463-8b0c-e54dde5a4fff",
   "metadata": {},
   "outputs": [],
   "source": []
  },
  {
   "cell_type": "code",
   "execution_count": null,
   "id": "7d0244d9-726f-44da-b06f-a07a9f1e27ff",
   "metadata": {},
   "outputs": [],
   "source": []
  },
  {
   "cell_type": "code",
   "execution_count": null,
   "id": "f26b12a3-e8a9-4b49-80fc-a885927491b4",
   "metadata": {},
   "outputs": [],
   "source": []
  },
  {
   "cell_type": "code",
   "execution_count": null,
   "id": "57402d10-2d55-42ce-8d2e-bd5589fd6fbd",
   "metadata": {},
   "outputs": [],
   "source": []
  },
  {
   "cell_type": "code",
   "execution_count": null,
   "id": "c15f4e06-c3e3-42f8-a490-4f9201f5be94",
   "metadata": {},
   "outputs": [],
   "source": []
  },
  {
   "cell_type": "code",
   "execution_count": null,
   "id": "9946bdda-7402-4157-aae7-54acb0438dc5",
   "metadata": {},
   "outputs": [],
   "source": []
  },
  {
   "cell_type": "code",
   "execution_count": null,
   "id": "a639d824-aa6e-49d5-b6f7-1b0be9215d1f",
   "metadata": {},
   "outputs": [],
   "source": []
  },
  {
   "cell_type": "code",
   "execution_count": null,
   "id": "77a23696-c492-48bf-9a93-2be3ac0c45c8",
   "metadata": {},
   "outputs": [],
   "source": []
  },
  {
   "cell_type": "code",
   "execution_count": null,
   "id": "d10874e4-6cd5-46e9-9539-bb0d8bf1788a",
   "metadata": {},
   "outputs": [],
   "source": []
  },
  {
   "cell_type": "code",
   "execution_count": null,
   "id": "ee6c0043-e39e-4a79-9641-35db092b248a",
   "metadata": {},
   "outputs": [],
   "source": []
  },
  {
   "cell_type": "code",
   "execution_count": null,
   "id": "8a105eb4-5b7c-433e-957f-c949c6583ebf",
   "metadata": {},
   "outputs": [],
   "source": []
  },
  {
   "cell_type": "code",
   "execution_count": null,
   "id": "00bc1fb2-64b5-43f2-990c-dd1a06b09c72",
   "metadata": {},
   "outputs": [],
   "source": []
  },
  {
   "cell_type": "code",
   "execution_count": null,
   "id": "760ac4c4-c220-4df2-90b8-405327610eb0",
   "metadata": {},
   "outputs": [],
   "source": []
  },
  {
   "cell_type": "code",
   "execution_count": null,
   "id": "6130df55-254f-4751-919c-2adf9e6d23f6",
   "metadata": {},
   "outputs": [],
   "source": []
  },
  {
   "cell_type": "code",
   "execution_count": null,
   "id": "e44cd43e-726f-459e-ad9c-5b6dfede8b75",
   "metadata": {},
   "outputs": [],
   "source": []
  },
  {
   "cell_type": "code",
   "execution_count": null,
   "id": "22778181-6570-4815-b8ed-8737722cb02c",
   "metadata": {},
   "outputs": [],
   "source": []
  },
  {
   "cell_type": "code",
   "execution_count": null,
   "id": "4eb773fa-297f-411c-bb4b-bbfdc395ed26",
   "metadata": {},
   "outputs": [],
   "source": []
  },
  {
   "cell_type": "code",
   "execution_count": null,
   "id": "f046d15d-728a-415c-9b0d-caba1b64c695",
   "metadata": {},
   "outputs": [],
   "source": []
  },
  {
   "cell_type": "code",
   "execution_count": null,
   "id": "1593da1f-e81e-403f-b85c-6bf1215a7bf5",
   "metadata": {},
   "outputs": [],
   "source": []
  }
 ],
 "metadata": {
  "kernelspec": {
   "display_name": "Python 3 (ipykernel)",
   "language": "python",
   "name": "python3"
  },
  "language_info": {
   "codemirror_mode": {
    "name": "ipython",
    "version": 3
   },
   "file_extension": ".py",
   "mimetype": "text/x-python",
   "name": "python",
   "nbconvert_exporter": "python",
   "pygments_lexer": "ipython3",
   "version": "3.12.3"
  }
 },
 "nbformat": 4,
 "nbformat_minor": 5
}
